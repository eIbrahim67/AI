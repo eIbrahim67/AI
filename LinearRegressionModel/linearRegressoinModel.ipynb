{
 "cells": [
  {
   "cell_type": "markdown",
   "id": "71251603",
   "metadata": {},
   "source": [
    "# Task 1: Data Preprocessing"
   ]
  },
  {
   "cell_type": "markdown",
   "id": "d353e15d",
   "metadata": {},
   "source": [
    "Step 1: Data Loading\n",
    "\n",
    "Objective:\n",
    "Load your dataset into your working environment (e.g., Python).\n",
    "\n",
    "Operations:\n",
    "Read the CSV file (or any other format) that contains your dataset.\n",
    "Verify that the data is loaded correctly by printing the first few rows."
   ]
  },
  {
   "cell_type": "code",
   "execution_count": 1,
   "id": "2eb34f4c",
   "metadata": {},
   "outputs": [
    {
     "name": "stdout",
     "output_type": "stream",
     "text": [
      "['Hours Studied', 'Previous Scores', 'Extracurricular Activities', 'Sleep Hours', 'Sample Question Papers Practiced', 'Performance Index']\n",
      "['7', '99', 'Yes', '9', '1', '91.0']\n",
      "['4', '82', 'No', '4', '2', '65.0']\n",
      "['8', '51', 'Yes', '7', '2', '45.0']\n",
      "['6', ' ', ' No', ' 8', ' 1', ' 78.0']\n"
     ]
    }
   ],
   "source": [
    "# Example using Python's built-in functions (you can write your own file reader if you want to avoid libraries)\n",
    "\n",
    "# Here is a very simple implementation assuming the data is in CSV format.\n",
    "def load_data(filename):\n",
    "    with open(filename, 'r') as file:\n",
    "        lines = file.readlines()\n",
    "    # Remove any trailing newline characters and split columns by comma\n",
    "    data = [line.strip().split(',') for line in lines]\n",
    "    return data\n",
    "\n",
    "data = load_data('student_performance.csv')\n",
    "\n",
    "# Print first few rows\n",
    "for row in data[:5]:\n",
    "    print(row)"
   ]
  },
  {
   "cell_type": "markdown",
   "id": "445417fe",
   "metadata": {},
   "source": [
    "Step 2: Data Cleaning\n",
    "\n",
    "    Objective:\n",
    "        Ensure that your dataset is free from missing values and inconsistencies.\n",
    "\n",
    "    Operations:\n",
    "        Check for Missing Values:\n",
    "            Look through the dataset to see if any fields are missing or blank.\n",
    "        Handle Missing Data:\n",
    "            You can choose to remove rows with missing values or fill them using an imputation method (e.g., mean, median).\n",
    "        Validate Data Types:\n",
    "            Make sure that numeric columns (e.g., Hours Studied, Previous Scores, Sleep Hours, Sample Question Papers Practiced, Performance Index) contain numeric values.\n",
    "    Example (Conceptual):\n",
    "\n",
    "        If a row is missing the \"Previous Scores\" value, you might choose to drop that row or replace the missing value with the average of the column."
   ]
  },
  {
   "cell_type": "code",
   "execution_count": 2,
   "id": "592ad41b",
   "metadata": {},
   "outputs": [
    {
     "name": "stdout",
     "output_type": "stream",
     "text": [
      "Before Cleaning The Data:\n",
      "['Hours Studied', 'Previous Scores', 'Extracurricular Activities', 'Sleep Hours', 'Sample Question Papers Practiced', 'Performance Index']\n",
      "['7', '99', 'Yes', '9', '1', '91.0']\n",
      "['4', '82', 'No', '4', '2', '65.0']\n",
      "['8', '51', 'Yes', '7', '2', '45.0']\n",
      "['6', ' ', ' No', ' 8', ' 1', ' 78.0']\n",
      "['5', '52', 'Yes', '5', '2', '36.0']\n",
      "Skipping row [6.0, ' ', ' No', ' 8', ' 1', ' 78.0'] due to conversion error: could not convert string to float: ' '\n",
      "Cleaned Data:\n",
      "['Hours Studied', 'Previous Scores', 'Extracurricular Activities', 'Sleep Hours', 'Sample Question Papers Practiced', 'Performance Index']\n",
      "[7.0, 99.0, 'Yes', 9.0, 1.0, 91.0]\n",
      "[4.0, 82.0, 'No', 4.0, 2.0, 65.0]\n",
      "[8.0, 51.0, 'Yes', 7.0, 2.0, 45.0]\n",
      "[5.0, 52.0, 'Yes', 5.0, 2.0, 36.0]\n",
      "[7.0, 75.0, 'No', 8.0, 5.0, 66.0]\n"
     ]
    }
   ],
   "source": [
    "def clean_data(data):\n",
    "    \"\"\"\n",
    "    Clean the dataset.\n",
    "    Assumes:\n",
    "      - data is a list of lists where the first row is the header.\n",
    "      - The expected header columns are:\n",
    "        \"Hours Studied\", \"Previous Scores\", \"Extracurricular Activities\", \n",
    "        \"Sleep Hours\", \"Sample Question Papers Practiced\", \"Performance Index\"\n",
    "    \"\"\"\n",
    "    header = data[0]\n",
    "    rows = data[1:]\n",
    "    cleaned_rows = []\n",
    "\n",
    "    # Define the indices for the columns we need to convert to numbers\n",
    "    try:\n",
    "        hours_index = header.index(\"Hours Studied\")\n",
    "        scores_index = header.index(\"Previous Scores\")\n",
    "        sleep_index = header.index(\"Sleep Hours\")\n",
    "        sample_index = header.index(\"Sample Question Papers Practiced\")\n",
    "        performance_index = header.index(\"Performance Index\")\n",
    "    except ValueError as e:\n",
    "        print(\"Error: Expected column not found in header.\", e)\n",
    "        return None\n",
    "\n",
    "    for row in rows:\n",
    "        # Check if row has the correct number of columns\n",
    "        if len(row) != len(header):\n",
    "            print(f\"Skipping row (incorrect number of columns): {row}\")\n",
    "            continue\n",
    "\n",
    "        try:\n",
    "            # Convert numeric columns to float\n",
    "            row[hours_index] = float(row[hours_index])\n",
    "            row[scores_index] = float(row[scores_index])\n",
    "            row[sleep_index] = float(row[sleep_index])\n",
    "            row[sample_index] = float(row[sample_index])\n",
    "            row[performance_index] = float(row[performance_index])\n",
    "            \n",
    "            # For now, we leave \"Extracurricular Activities\" as is (will encode later)\n",
    "            # If any conversion fails, this row will be skipped.\n",
    "            cleaned_rows.append(row)\n",
    "        except Exception as e:\n",
    "            print(f\"Skipping row {row} due to conversion error: {e}\")\n",
    "\n",
    "    # Return the header along with the cleaned rows\n",
    "    return [header] + cleaned_rows\n",
    "\n",
    "# i added a row with missing data\n",
    "\n",
    "print(\"Before Cleaning The Data:\")\n",
    "for row in data[:6]:\n",
    "    print(row)\n",
    "\n",
    "data = clean_data(data)\n",
    "print(\"Cleaned Data:\")\n",
    "for row in data[:6]:\n",
    "    print(row)\n"
   ]
  },
  {
   "cell_type": "markdown",
   "id": "8c9e362b",
   "metadata": {},
   "source": [
    "Step 3: Encoding Categorical Variables\n",
    "    \n",
    "    Objective:\n",
    "        Convert categorical variables into a numeric format that the model can understand.\n",
    "\n",
    "    Operations:\n",
    "        Identify the categorical column(s). In your dataset, \"Extracurricular Activities\" has values \"Yes\" or \"No\".\n",
    "        Convert these categorical values into numeric form.\n",
    "    For example:\n",
    "        map \"Yes\" to 1 and \"No\" to 0."
   ]
  },
  {
   "cell_type": "code",
   "execution_count": 3,
   "id": "83908861",
   "metadata": {},
   "outputs": [
    {
     "name": "stdout",
     "output_type": "stream",
     "text": [
      "[7.0, 99.0, 1, 9.0, 1.0, 91.0]\n",
      "[4.0, 82.0, 0, 4.0, 2.0, 65.0]\n",
      "[8.0, 51.0, 1, 7.0, 2.0, 45.0]\n",
      "[5.0, 52.0, 1, 5.0, 2.0, 36.0]\n",
      "[7.0, 75.0, 0, 8.0, 5.0, 66.0]\n"
     ]
    }
   ],
   "source": [
    "# Assuming data is a list of lists and that the header is in the first row.\n",
    "header = data[0]\n",
    "rows = data[1:]\n",
    "\n",
    "# Find the index of the \"Extracurricular Activities\" column\n",
    "extracurricular_index = header.index(\"Extracurricular Activities\")\n",
    "\n",
    "# Convert \"Yes\" to 1 and \"No\" to 0 for all rows\n",
    "for row in rows:\n",
    "    if row[extracurricular_index].lower() == 'yes':\n",
    "        row[extracurricular_index] = 1\n",
    "    elif row[extracurricular_index].lower() == 'no':\n",
    "        row[extracurricular_index] = 0\n",
    "        \n",
    "# Print first few rows\n",
    "for row in rows[:5]:\n",
    "    print(row)"
   ]
  },
  {
   "cell_type": "markdown",
   "id": "2988a4b0",
   "metadata": {},
   "source": [
    "Step 4: Feature and Target Identification\n",
    "\n",
    "    Objective:\n",
    "        Determine which columns will be used as features (inputs) and which column is the target (output).\n",
    "\n",
    "    Operations:\n",
    "        Features:\n",
    "            Hours Studied\n",
    "            Previous Scores\n",
    "            Extracurricular Activities (now numeric)\n",
    "            Sleep Hours\n",
    "            Sample Question Papers Practiced\n",
    "        Target:\n",
    "            Performance Index\n",
    "    Note:\n",
    "        Ensure all these columns are in numeric format. Convert any that aren't."
   ]
  },
  {
   "cell_type": "markdown",
   "id": "a5a86b65",
   "metadata": {},
   "source": [
    "Summary of Task 1:\n",
    "\n",
    "    Data Loading: Read the dataset and inspect its contents.\n",
    "    Data Cleaning: Check for missing values and validate data types.\n",
    "    Encoding Categorical Variables: Convert \"Extracurricular Activities\" to numeric (e.g., Yes = 1, No = 0).\n",
    "    Feature and Target Identification: Define which columns are inputs (features) and which is the output (target).\n"
   ]
  },
  {
   "cell_type": "markdown",
   "id": "ff509e60",
   "metadata": {},
   "source": [
    "# Task 2: Exploratory Data Analysis (EDA) and Feature Engineering"
   ]
  },
  {
   "cell_type": "markdown",
   "id": "d8221ac1",
   "metadata": {},
   "source": [
    "Step 1: Statistical Summary\n",
    "    \n",
    "    Objective:\n",
    "        Get an overview of the distribution and basic statistics for each feature and the target variable.\n",
    "\n",
    "    Operations:\n",
    "        Calculate Basic Statistics:\n",
    "            For each numeric column (Hours Studied, Previous Scores, Sleep Hours, Sample Question Papers Practiced, and Performance Index), compute:\n",
    "                Mean (average)\n",
    "                Median\n",
    "                Standard Deviation\n",
    "                Minimum and Maximum values"
   ]
  },
  {
   "cell_type": "code",
   "execution_count": 4,
   "id": "18ec86ed",
   "metadata": {},
   "outputs": [
    {
     "name": "stdout",
     "output_type": "stream",
     "text": [
      "Hours Studied: {'mean': 4.9929, 'median': 5.0, 'std_dev': 2.589179327509005, 'min': 1.0, 'max': 9.0}\n",
      "Previous Scores: {'mean': 69.4457, 'median': 69.0, 'std_dev': 17.34228507175449, 'min': 40.0, 'max': 99.0}\n",
      "Extracurricular Activities: {'mean': 0.4948, 'median': 0.0, 'std_dev': 0.4999729592688043, 'min': 0.0, 'max': 1.0}\n",
      "Sleep Hours: {'mean': 6.5306, 'median': 7.0, 'std_dev': 1.6957781812488417, 'min': 4.0, 'max': 9.0}\n",
      "Sample Question Papers Practiced: {'mean': 4.5833, 'median': 5.0, 'std_dev': 2.867204406734922, 'min': 0.0, 'max': 9.0}\n",
      "Performance Index: {'mean': 55.2248, 'median': 55.0, 'std_dev': 19.21159714755645, 'min': 10.0, 'max': 100.0}\n"
     ]
    }
   ],
   "source": [
    "def compute_statistics(data, header):\n",
    "    # Assuming data is a list of lists (excluding the header)\n",
    "    statistics = {}\n",
    "    # Create a list for each column (except categorical if needed)\n",
    "    columns = {col: [] for col in header}\n",
    "    for row in data:\n",
    "        for i, value in enumerate(row):\n",
    "            # We'll treat all columns as numeric for now, \n",
    "            # but you can skip or process categorical separately.\n",
    "            try:\n",
    "                columns[header[i]].append(float(value))\n",
    "            except:\n",
    "                # For non-numeric values, simply skip converting\n",
    "                columns[header[i]].append(value)\n",
    "\n",
    "    # Compute statistics for numeric columns\n",
    "    for col in header:\n",
    "        try:\n",
    "            values = columns[col]\n",
    "            mean_val = sum(values) / len(values)\n",
    "            sorted_vals = sorted(values)\n",
    "            median_val = sorted_vals[len(values)//2]\n",
    "            variance = sum((x - mean_val) ** 2 for x in values) / len(values)\n",
    "            std_dev = variance ** 0.5\n",
    "            statistics[col] = {\n",
    "                \"mean\": mean_val,\n",
    "                \"median\": median_val,\n",
    "                \"std_dev\": std_dev,\n",
    "                \"min\": min(values),\n",
    "                \"max\": max(values)\n",
    "            }\n",
    "        except Exception as e:\n",
    "            # Skip statistics for non-numeric columns\n",
    "            statistics[col] = f\"Non-numeric or error: {e}\"\n",
    "    return statistics\n",
    "\n",
    "# Example usage:\n",
    "stats = compute_statistics(rows, header)\n",
    "for col, stat in stats.items():\n",
    "    print(f\"{col}: {stat}\")\n"
   ]
  },
  {
   "cell_type": "markdown",
   "id": "6d41a33f",
   "metadata": {},
   "source": [
    "Step 2: Data Visualization\n",
    "    \n",
    "    Objective:\n",
    "        Visualize the relationships between features and the target variable to gain insights into potential linear relationships and detect anomalies or outliers.\n",
    "\n",
    "    Operations:\n",
    "        Scatter Plots:\n",
    "            Plot each feature against the target (Performance Index). This helps you see if there is a linear trend.\n",
    "        Histograms and Box Plots:\n",
    "            Create histograms or box plots for each numeric feature to inspect their distribution and check for outliers."
   ]
  },
  {
   "cell_type": "code",
   "execution_count": 5,
   "id": "21323adc",
   "metadata": {},
   "outputs": [
    {
     "data": {
      "image/png": "[encoded data removed]",
      "text/plain": [
       "<Figure size 640x480 with 1 Axes>"
      ]
     },
     "metadata": {},
     "output_type": "display_data"
    },
    {
     "data": {
      "image/png": "[encoded data removed]",
      "text/plain": [
       "<Figure size 640x480 with 1 Axes>"
      ]
     },
     "metadata": {},
     "output_type": "display_data"
    },
    {
     "data": {
      "image/png": "[encoded data removed]",
      "text/plain": [
       "<Figure size 640x480 with 1 Axes>"
      ]
     },
     "metadata": {},
     "output_type": "display_data"
    },
    {
     "data": {
      "image/png": "[encoded data removed]",
      "text/plain": [
       "<Figure size 640x480 with 1 Axes>"
      ]
     },
     "metadata": {},
     "output_type": "display_data"
    },
    {
     "data": {
      "image/png": "[encoded data removed]",
      "text/plain": [
       "<Figure size 640x480 with 1 Axes>"
      ]
     },
     "metadata": {},
     "output_type": "display_data"
    },
    {
     "data": {
      "image/png": "[encoded data removed]",
      "text/plain": [
       "<Figure size 640x480 with 1 Axes>"
      ]
     },
     "metadata": {},
     "output_type": "display_data"
    }
   ],
   "source": [
    "import matplotlib.pyplot as plt # type: ignore\n",
    "\n",
    "def plot_feature_vs_target(data, header, feature_name, target_name):\n",
    "    feature_index = header.index(feature_name)\n",
    "    target_index = header.index(target_name)\n",
    "    feature_values = [float(row[feature_index]) for row in data]\n",
    "    target_values = [float(row[target_index]) for row in data]\n",
    "\n",
    "    plt.scatter(feature_values, target_values)\n",
    "    plt.title(f\"{feature_name} vs. {target_name}\")\n",
    "    plt.xlabel(feature_name)\n",
    "    plt.ylabel(target_name)\n",
    "    plt.show()\n",
    "\n",
    "# Example: Plot \"Hours Studied\" vs. \"Performance Index\"\n",
    "for feature in header:\n",
    "    plot_feature_vs_target(rows, header, feature, \"Performance Index\")"
   ]
  },
  {
   "cell_type": "markdown",
   "id": "7b610d27",
   "metadata": {},
   "source": [
    "Step 3: Correlation Analysis\n",
    "\n",
    "Compute the correlation matrix between features and the target to see which features might have a strong linear relationship with Performance Index."
   ]
  },
  {
   "cell_type": "code",
   "execution_count": 6,
   "id": "e6ef3735",
   "metadata": {},
   "outputs": [
    {
     "name": "stdout",
     "output_type": "stream",
     "text": [
      "Correlation between Hours Studied and Performance Index: 0.37\n",
      "Correlation between Previous Scores and Performance Index: 0.92\n",
      "Correlation between Extracurricular Activities and Performance Index: 0.02\n",
      "Correlation between Sleep Hours and Performance Index: 0.05\n",
      "Correlation between Sample Question Papers Practiced and Performance Index: 0.04\n"
     ]
    }
   ],
   "source": [
    "def compute_correlation(data, header, feature1, feature2):\n",
    "    idx1 = header.index(feature1)\n",
    "    idx2 = header.index(feature2)\n",
    "    x_vals = [float(row[idx1]) for row in data]\n",
    "    y_vals = [float(row[idx2]) for row in data]\n",
    "    mean_x = sum(x_vals) / len(x_vals)\n",
    "    mean_y = sum(y_vals) / len(y_vals)\n",
    "    numerator = sum((x - mean_x) * (y - mean_y) for x, y in zip(x_vals, y_vals))\n",
    "    denominator = (sum((x - mean_x)**2 for x in x_vals) * sum((y - mean_y)**2 for y in y_vals)) ** 0.5\n",
    "    return numerator / denominator if denominator != 0 else 0\n",
    "\n",
    "# Compute correlation between each feature and Performance Index\n",
    "target = \"Performance Index\"\n",
    "for feature in header:\n",
    "    if feature != target:\n",
    "        corr = compute_correlation(rows, header, feature, target)\n",
    "        print(f\"Correlation between {feature} and {target}: {corr:.2f}\")\n"
   ]
  },
  {
   "cell_type": "markdown",
   "id": "e7e4f390",
   "metadata": {},
   "source": [
    "Step 4: Feature Scaling\n",
    "\n",
    "    Objective:\n",
    "        Scale features to ensure they are on a similar scale, which helps the gradient descent algorithm converge more smoothly.\n",
    "\n",
    "    Operations:\n",
    "        Normalization (Min-Max Scaling):\n",
    "            Rescale features to a range of [0, 1]\n",
    " \n",
    "        Standardization:\n",
    "            Transform features so they have a mean of 0 and a standard deviation of 1"
   ]
  },
  {
   "cell_type": "markdown",
   "id": "dacb3215",
   "metadata": {},
   "source": [
    "For our \"Student Performance\" dataset and model, I recommend standardizing the data rather than normalizing it. Here’s why:\n",
    "\n",
    "    Different Feature Scales:\n",
    "        Our dataset includes features such as \"Hours Studied\" (which might be on a scale of 0–10 or more), \"Previous Scores\" (likely on a 0–100 scale), \"Sleep Hours,\" and others. Standardization transforms each feature so that it has a mean of 0 and a standard deviation of 1, which is very useful when the features come in different scales.\n",
    "\n",
    "    Improved Convergence in Gradient Descent:\n",
    "        Since we'll be training our linear regression model from scratch using gradient descent, standardization is beneficial. It centers the data and ensures that all features contribute equally to the gradient updates, which generally leads to faster and more stable convergence. With normalization, extreme values (or a bounded scale like [0, 1]) might not handle outliers or varying variances as effectively, especially when features have different variances.\n",
    "\n",
    "    Interpretability of Coefficients:\n",
    "        When features are standardized, the learned coefficients represent the change in the target variable for a one standard deviation change in the feature. This can provide a clearer understanding of each feature's relative importance in predicting the \"Performance Index.\"\n",
    "\n",
    "    Flexibility and Robustness:\n",
    "        Standardization does not force all values into a specific bounded range (like [0, 1]), which can be useful if your data does not naturally fit into that range or if there are outliers. Normalization could compress the values of the majority of the data if a few extreme values are present, potentially distorting the learning process."
   ]
  },
  {
   "cell_type": "code",
   "execution_count": 7,
   "id": "eb9857e3",
   "metadata": {},
   "outputs": [
    {
     "name": "stdout",
     "output_type": "stream",
     "text": [
      "Before Standardization:\n",
      "[[7.0, 99.0, 1, 9.0, 1.0, 91.0], [4.0, 82.0, 0, 4.0, 2.0, 65.0], [8.0, 51.0, 1, 7.0, 2.0, 45.0], [5.0, 52.0, 1, 5.0, 2.0, 36.0], [7.0, 75.0, 0, 8.0, 5.0, 66.0]]\n",
      "\n",
      "After Standardization:\n",
      "[[0.7751877124443864, 1.7041756537686783, 1, 1.4562046070090553, -1.249753938569223, 1.8621668841598782], [-0.3834805837706297, 0.7239126763316376, 0, -1.492294232808421, -0.9009821531844594, 0.5088176649198226], [1.1614104778493919, -1.0636256942888485, 1, 0.2768050710820648, -0.9009821531844594, -0.5322201960340662], [0.002742181634375665, -1.0059631662043167, 1, -0.9025944648449257, -0.9009821531844594, -1.0006872334633163], [0.7751877124443864, 0.3202749797399149, 0, 0.8665048390455601, 0.14533320296983077, 0.560869557967517]]\n"
     ]
    }
   ],
   "source": [
    "import copy\n",
    "\n",
    "def standardize_feature(data, header, feature_name):\n",
    "    \"\"\"\n",
    "    Standardize the specified feature in the dataset.\n",
    "    \n",
    "    For each feature, compute the mean and standard deviation, and then update\n",
    "    the feature values using the formula:\n",
    "        x_std = (x - mean) / std_dev\n",
    "    \"\"\"\n",
    "    idx = header.index(feature_name)\n",
    "    # Extract the feature values and convert them to float\n",
    "    values = [float(row[idx]) for row in data]\n",
    "    # Calculate the mean\n",
    "    mean_val = sum(values) / len(values)\n",
    "    # Calculate the variance and then the standard deviation\n",
    "    variance = sum((x - mean_val) ** 2 for x in values) / len(values)\n",
    "    std_val = variance ** 0.5\n",
    "    \n",
    "    # Update each row with the standardized value\n",
    "    for row in data:\n",
    "        row[idx] = (float(row[idx]) - mean_val) / std_val\n",
    "    return data\n",
    "\n",
    "# Suppose 'rows' is our data (list of lists without the header)\n",
    "# and 'header' is the list of column names.\n",
    "# For example:\n",
    "header = [\"Hours Studied\", \"Previous Scores\", \"Extracurricular Activities\", \n",
    "          \"Sleep Hours\", \"Sample Question Papers Practiced\", \"Performance Index\"]\n",
    "\n",
    "# Let's make a copy of rows to compare before and after standardization.\n",
    "original_rows = copy.deepcopy(rows)\n",
    "\n",
    "# Standardize a few features.\n",
    "for feature in [\"Hours Studied\", \"Previous Scores\", \"Sleep Hours\", \"Sample Question Papers Practiced\", \"Performance Index\"]:\n",
    "    rows = standardize_feature(rows, header, feature)\n",
    "\n",
    "print(\"Before Standardization:\")\n",
    "print(original_rows[:5])\n",
    "\n",
    "print(\"\\nAfter Standardization:\")\n",
    "print(rows[:5])\n"
   ]
  },
  {
   "cell_type": "markdown",
   "id": "a16d21c2",
   "metadata": {},
   "source": [
    "Old result:\n",
    "\n",
    "    Hours Studied: {'mean': 4.9929, 'median': 5.0, 'std_dev': 2.589179327509004, 'min': 1.0, 'max': 9.0}\n",
    "    Previous Scores: {'mean': 69.4457, 'median': 69.0, 'std_dev': 17.342285071754482, 'min': 40.0, 'max': 99.0}\n",
    "    Extracurricular Activities: {'mean': 0.4948, 'median': 0.0, 'std_dev': 0.4999729592688028, 'min': 0.0, 'max': 1.0}\n",
    "    Sleep Hours: {'mean': 6.5306, 'median': 7.0, 'std_dev': 1.6957781812488448, 'min': 4.0, 'max': 9.0}\n",
    "    Sample Question Papers Practiced: {'mean': 4.5833, 'median': 5.0, 'std_dev': 2.867204406734915, 'min': 0.0, 'max': 9.0}\n",
    "    Performance Index: {'mean': 55.2248, 'median': 55.0, 'std_dev': 19.21159714755641, 'min': 10.0, 'max': 100.0}"
   ]
  },
  {
   "cell_type": "code",
   "execution_count": 8,
   "id": "9a5039f2",
   "metadata": {},
   "outputs": [
    {
     "name": "stdout",
     "output_type": "stream",
     "text": [
      "New Result:\n",
      "Hours Studied: {'mean': 8.457679001594443e-17, 'median': 0.002742181634375665, 'std_dev': 0.9999999999999997, 'min': -1.5421488799856458, 'max': 1.547633243254397}\n",
      "Previous Scores: {'mean': -1.2654877146189847e-16, 'median': -0.025700188767275957, 'std_dev': 1.0000000000000058, 'min': -1.6979135032186985, 'max': 1.7041756537686783}\n",
      "Extracurricular Activities: {'mean': 0.4948, 'median': 0.0, 'std_dev': 0.4999729592688043, 'min': 0.0, 'max': 1.0}\n",
      "Sleep Hours: {'mean': 6.262323992700658e-16, 'median': 0.2768050710820648, 'std_dev': 1.0000000000001024, 'min': -1.492294232808421, 'max': 1.4562046070090553}\n",
      "Sample Question Papers Practiced: {'mean': -1.9195756095768958e-16, 'median': 0.14533320296983077, 'std_dev': 0.9999999999999893, 'min': -1.5985257239539863, 'max': 1.5404203445088844}\n",
      "Performance Index: {'mean': -1.0113021531310551e-16, 'median': -0.01170126555712181, 'std_dev': 1.0000000000000009, 'min': -2.354036452703372, 'max': 2.3306339215891283}\n"
     ]
    }
   ],
   "source": [
    "print(\"New Result:\")\n",
    "stats = compute_statistics(rows, header)\n",
    "for col, stat in stats.items():\n",
    "    print(f\"{col}: {stat}\")"
   ]
  },
  {
   "cell_type": "markdown",
   "id": "ec3cd92c",
   "metadata": {},
   "source": [
    "Step 4: Feature Engineering\n",
    "\n",
    "    Objective:\n",
    "        Enhance your dataset by creating additional features that might capture relationships not visible from the original features. This step is optional but can help improve the model if you suspect interactions between features.\n",
    "\n",
    "    Operations:\n",
    "        Interaction Terms:\n",
    "            For example, if you suspect that the combined effect of \"Hours Studied\" and \"Sleep Hours\" impacts performance, create an interaction feature.\n",
    "\n",
    "    Polynomial Features (Optional):\n",
    "        You might add squared or higher-order terms if you think there is a non-linear relationship that a simple linear model cannot capture."
   ]
  },
  {
   "cell_type": "code",
   "execution_count": 9,
   "id": "710c656b",
   "metadata": {},
   "outputs": [
    {
     "name": "stdout",
     "output_type": "stream",
     "text": [
      "Data after adding an interaction feature:\n",
      "['Hours Studied', 'Previous Scores', 'Extracurricular Activities', 'Sleep Hours', 'Sample Question Papers Practiced', 'Performance Index', 'Study_Sleep_Interaction']\n",
      "[0.7751877124443864, 0.3202749797399149, 0, 0.8665048390455601, 0.14533320296983077, 0.560869557967517, 0.671703904001719]\n"
     ]
    }
   ],
   "source": [
    "def add_interaction_feature(data, header, feature1, feature2, new_feature_name):\n",
    "    idx1 = header.index(feature1)\n",
    "    idx2 = header.index(feature2)\n",
    "    header.append(new_feature_name)\n",
    "    for row in data:\n",
    "        # Calculate the interaction term as the product of the two features\n",
    "        interaction_value = float(row[idx1]) * float(row[idx2])\n",
    "        row.append(interaction_value)\n",
    "    return data, header\n",
    "\n",
    "# Add an interaction feature between \"Hours Studied\" and \"Sleep Hours\"\n",
    "rows, header = add_interaction_feature(rows, header, \"Hours Studied\", \"Sleep Hours\", \"Study_Sleep_Interaction\")\n",
    "print(\"Data after adding an interaction feature:\")\n",
    "print(header)\n",
    "print(row[:10])"
   ]
  },
  {
   "cell_type": "markdown",
   "id": "e0713951",
   "metadata": {},
   "source": [
    "# Task 3: Model Building and Training"
   ]
  },
  {
   "cell_type": "markdown",
   "id": "c30f3b1d",
   "metadata": {},
   "source": [
    "Step 1: Preparing the Data for Training\n",
    "    Objective:\n",
    "        Separate your dataset into features (X) and target (y), and then split these into training and testing sets."
   ]
  },
  {
   "cell_type": "code",
   "execution_count": 10,
   "id": "84339be4",
   "metadata": {},
   "outputs": [
    {
     "name": "stdout",
     "output_type": "stream",
     "text": [
      "rows: 10000\n",
      "X_train: 8000\n",
      "y_train: 8000\n",
      "X_test: 2000\n",
      "y_test: 2000\n",
      "X_train: [[0.7751877124443864, 0.5509250920780422, 0, 0.8665048390455601, 1.191648559124121, 0.7690771301582948], [-1.5421488799856458, -1.524925918965103, 0, 1.4562046070090553, -1.5985257239539863, -2.0937769874648997], [-0.3834805837706297, 1.1275503729233602, 1, 0.8665048390455601, -1.249753938569223, 0.9252328093013782], [0.7751877124443864, 0.6662501482471058, 0, -0.31289469688143046, -1.5985257239539863, 0.7690771301582948], [-0.7697033491756351, 0.4932625639935104, 1, -1.492294232808421, -0.552210367799696, 0.09240252053826709]]\n",
      "y_train: [0.671703904001719, -2.245684303728952, -0.3322877815172669, -0.24255212431149578, 1.1486238689481265]\n",
      "X_test: [[1.547633243254397, -0.7753130538661895, 1, 0.2768050710820648, 1.191648559124121, -0.1158050516525107], [0.002742181634375665, -0.42933788535899864, 0, 1.4562046070090553, -1.249753938569223, -0.6363239821294552], [-1.1559261145806405, -1.1789507504579122, 0, 0.8665048390455601, 0.14533320296983077, -1.573258056987955], [0.38896494703938106, -0.7753130538661895, 1, -0.31289469688143046, -0.20343858241493262, -0.4801683029863718], [-0.7697033491756351, -1.3519383347115077, 0, -1.492294232808421, -1.249753938569223, -1.5212061639402608]]\n",
      "y_test: [0.42839272990799987, 0.003993177529233464, -1.0016155718632576, -0.1217050692013888, 1.1486238689481265]\n"
     ]
    }
   ],
   "source": [
    "import random\n",
    "\n",
    "# Separate features (X) and target (y)\n",
    "X = [row[:-1] for row in rows]  # All columns except the last column\n",
    "y = [row[-1] for row in rows]   # The last column is the target\n",
    "\n",
    "# Combine X and y, shuffle, and then split\n",
    "combined = list(zip(X, y))\n",
    "random.shuffle(combined)\n",
    "X[:], y[:] = zip(*combined)\n",
    "\n",
    "# Split into training and testing sets (e.g., 80% training, 20% testing)\n",
    "split_ratio = 0.8\n",
    "split_index = int(len(X) * split_ratio)\n",
    "X_train = X[:split_index]\n",
    "y_train = y[:split_index]\n",
    "X_test = X[split_index:]\n",
    "y_test = y[split_index:]\n",
    "\n",
    "print(\"rows:\", len(rows))\n",
    "print(\"X_train:\", len(X_train))\n",
    "print(\"y_train:\", len(y_train))\n",
    "print(\"X_test:\", len(X_test))\n",
    "print(\"y_test:\", len(y_test))\n",
    "\n",
    "print(\"X_train:\", X_train[:5])\n",
    "print(\"y_train:\", y_train[:5])\n",
    "print(\"X_test:\", X_test[:5])\n",
    "print(\"y_test:\", y_test[:5])\n"
   ]
  },
  {
   "cell_type": "markdown",
   "id": "e5872f01",
   "metadata": {},
   "source": [
    "Step 2: Model Formulation (Hypothesis Function)\n",
    "\n",
    "    Objective:\n",
    "        Define the hypothesis (prediction) function for multiple linear regression.\n",
    "\n",
    "    Implementation Outline:\n",
    "        Represent the weights as a list (or vector) of the same length as the number of features.\n",
    "        The bias is a separate scalar value.\n",
    "        Given an input row, the prediction is computed as the dot product of the weight vector and the feature vector plus the bias."
   ]
  },
  {
   "cell_type": "code",
   "execution_count": 11,
   "id": "8052c3ce",
   "metadata": {},
   "outputs": [],
   "source": [
    "def predict(features, weights, bias):\n",
    "    \"\"\"\n",
    "    Predict the target value for a single example.\n",
    "    \n",
    "    Arguments:\n",
    "      features : List of feature values (all as floats).\n",
    "      weights  : List of weights corresponding to each feature.\n",
    "      bias     : Bias term.\n",
    "    \n",
    "    Returns:\n",
    "      prediction (float)\n",
    "    \"\"\"\n",
    "    prediction = bias\n",
    "    for w, x in zip(weights, features):\n",
    "        prediction += w * float(x)\n",
    "    return prediction"
   ]
  },
  {
   "cell_type": "markdown",
   "id": "f2fdde77",
   "metadata": {},
   "source": [
    "Make sure that your header list reflects the order of the features you are using for prediction. If you engineered new features (e.g., an interaction term), include them accordingly."
   ]
  },
  {
   "cell_type": "markdown",
   "id": "c10a3e34",
   "metadata": {},
   "source": [
    "Step 3: Defining the Cost Function\n",
    "    Objective:\n",
    "        Define a cost function that measures how far the model's predictions are from the actual target values. We will use Mean Squared Error (MSE)."
   ]
  },
  {
   "cell_type": "code",
   "execution_count": 12,
   "id": "eb306031",
   "metadata": {},
   "outputs": [],
   "source": [
    "def compute_cost(X, y, weights, bias):\n",
    "    \"\"\"\n",
    "    Compute the Mean Squared Error for given data.\n",
    "    \n",
    "    Arguments:\n",
    "      X       : List of feature vectors (each a list).\n",
    "      y       : List of actual target values.\n",
    "      weights : List of weights.\n",
    "      bias    : Bias term.\n",
    "      \n",
    "    Returns:\n",
    "      cost (float)\n",
    "    \"\"\"\n",
    "    m = len(X)\n",
    "    total_error = 0.0\n",
    "    for features, actual in zip(X, y):\n",
    "        prediction = predict(features, weights, bias)\n",
    "        error = prediction - float(actual)\n",
    "        total_error += error ** 2\n",
    "    cost = total_error / m\n",
    "    return cost"
   ]
  },
  {
   "cell_type": "markdown",
   "id": "f6d37015",
   "metadata": {},
   "source": [
    "If your data row separates features from the target (for instance, if your feature vector is in one list and the target in another), adjust the code accordingly."
   ]
  },
  {
   "cell_type": "markdown",
   "id": "394231ea",
   "metadata": {},
   "source": [
    "Step 4: Deriving and Implementing the Gradients\n",
    "    Objective:\n",
    "        Compute the gradients (partial derivatives) of the cost function with respect to each weight and the bias."
   ]
  },
  {
   "cell_type": "code",
   "execution_count": 13,
   "id": "b61edc43",
   "metadata": {},
   "outputs": [],
   "source": [
    "def compute_gradients(X, y, weights, bias):\n",
    "    \"\"\"\n",
    "    Compute gradients for weights and bias.\n",
    "    \n",
    "    Arguments:\n",
    "      X       : List of feature vectors.\n",
    "      y       : List of actual target values.\n",
    "      weights : List of current weights.\n",
    "      bias    : Current bias.\n",
    "      \n",
    "    Returns:\n",
    "      grad_weights : List of gradients for weights.\n",
    "      grad_bias    : Gradient for bias.\n",
    "    \"\"\"\n",
    "    m = len(X)\n",
    "    grad_weights = [0.0 for _ in weights]\n",
    "    grad_bias = 0.0\n",
    "\n",
    "    for features, actual in zip(X, y):\n",
    "        prediction = predict(features, weights, bias)\n",
    "        error = prediction - float(actual)\n",
    "        for j in range(len(weights)):\n",
    "            grad_weights[j] += error * float(features[j])\n",
    "        grad_bias += error\n",
    "    \n",
    "    # Average gradients (with factor 2 for MSE)\n",
    "    grad_weights = [(2 / m) * gw for gw in grad_weights]\n",
    "    grad_bias = (2 / m) * grad_bias\n",
    "    \n",
    "    return grad_weights, grad_bias"
   ]
  },
  {
   "cell_type": "markdown",
   "id": "6792abaa",
   "metadata": {},
   "source": [
    "Step 5: Implementing Gradient Descent and Training the Model\n",
    "    Objective:\n",
    "        Use the computed gradients to update the weights and bias iteratively until convergence."
   ]
  },
  {
   "cell_type": "code",
   "execution_count": 17,
   "id": "d4ad0724",
   "metadata": {},
   "outputs": [
    {
     "name": "stdout",
     "output_type": "stream",
     "text": [
      "Iteration 0: Cost = 100.4865\n",
      "Iteration 100: Cost = 61.7331\n",
      "Iteration 200: Cost = 38.6270\n",
      "Iteration 300: Cost = 24.8077\n",
      "Iteration 400: Cost = 16.5032\n",
      "Iteration 500: Cost = 11.4768\n",
      "Iteration 600: Cost = 8.4017\n",
      "Iteration 700: Cost = 6.4905\n",
      "Iteration 800: Cost = 5.2761\n",
      "Iteration 900: Cost = 4.4807\n",
      "Trained weights: [-0.012291323886337174, -0.005179631601739576, -2.7153229583773046, -0.017671321487043413, 0.011888702576724712, 0.031110258940825055]\n",
      "Trained bias: 2.4008549229287275\n"
     ]
    }
   ],
   "source": [
    "def gradient_descent(X, y, iterations, learning_rate):\n",
    "    \"\"\"\n",
    "    Run gradient descent to optimize weights and bias.\n",
    "    \n",
    "    Arguments:\n",
    "      X             : List of feature vectors (training data).\n",
    "      y             : List of target values (training data).\n",
    "      iterations    : Number of iterations to run.\n",
    "      learning_rate : Learning rate (alpha).\n",
    "      \n",
    "    Returns:\n",
    "      weights, bias, cost_history\n",
    "    \"\"\"\n",
    "    num_features = len(X[0])\n",
    "    weights = [0.0 for _ in range(num_features)]\n",
    "    bias = 10.0\n",
    "    cost_history = []\n",
    "    \n",
    "    for i in range(iterations):\n",
    "        grad_weights, grad_bias = compute_gradients(X, y, weights, bias)\n",
    "        \n",
    "        # Update weights and bias\n",
    "        weights = [w - learning_rate * gw for w, gw in zip(weights, grad_weights)]\n",
    "        bias = bias - learning_rate * grad_bias\n",
    "        \n",
    "        # Compute cost to monitor training progress\n",
    "        cost = compute_cost(X, y, weights, bias)\n",
    "        cost_history.append(cost)\n",
    "        \n",
    "        # Optionally, print progress every 100 iterations\n",
    "        if i % 100 == 0:\n",
    "            print(f\"Iteration {i}: Cost = {cost:.4f}\")\n",
    "    \n",
    "    return weights, bias, cost_history\n",
    "\n",
    "# Set hyperparameters for training\n",
    "iterations = 1000\n",
    "learning_rate = 0.001\n",
    "\n",
    "# Train the model on the training set\n",
    "trained_weights, trained_bias, cost_history = gradient_descent(X_train, y_train, iterations, learning_rate)\n",
    "\n",
    "print(\"Trained weights:\", trained_weights)\n",
    "print(\"Trained bias:\", trained_bias)\n"
   ]
  },
  {
   "cell_type": "code",
   "execution_count": 18,
   "id": "510deb6d",
   "metadata": {},
   "outputs": [
    {
     "name": "stdout",
     "output_type": "stream",
     "text": [
      "Iteration 0: Cost = 3.8992\n",
      "Iteration 100: Cost = 2.1263\n",
      "Iteration 200: Cost = 1.5244\n",
      "Iteration 300: Cost = 1.2462\n",
      "Iteration 400: Cost = 1.1170\n",
      "Iteration 500: Cost = 1.0570\n",
      "Iteration 600: Cost = 1.0292\n",
      "Iteration 700: Cost = 1.0162\n",
      "Iteration 800: Cost = 1.0102\n",
      "Iteration 900: Cost = 1.0075\n",
      "Trained weights: [-0.028133129643327523, -0.09436882031495797, -0.07439193495457418, -0.00446123728721408, -0.0052977842630267, 0.09497449116270988]\n",
      "Trained bias: 0.045617169805701276\n"
     ]
    }
   ],
   "source": [
    "def gradient_descent(X, y, iterations, learning_rate, weights, bias):\n",
    "    \"\"\"\n",
    "    Run gradient descent to optimize weights and bias.\n",
    "    \n",
    "    Arguments:\n",
    "      X             : List of feature vectors (training data).\n",
    "      y             : List of target values (training data).\n",
    "      iterations    : Number of iterations to run.\n",
    "      learning_rate : Learning rate (alpha).\n",
    "      \n",
    "    Returns:\n",
    "      weights, bias, cost_history\n",
    "    \"\"\"\n",
    "    \n",
    "    for i in range(iterations):\n",
    "        grad_weights, grad_bias = compute_gradients(X, y, weights, bias)\n",
    "        \n",
    "        # Update weights and bias\n",
    "        weights = [w - learning_rate * gw for w, gw in zip(weights, grad_weights)]\n",
    "        bias = bias - learning_rate * grad_bias\n",
    "        \n",
    "        # Compute cost to monitor training progress\n",
    "        cost = compute_cost(X, y, weights, bias)\n",
    "        cost_history.append(cost)\n",
    "        \n",
    "        # Optionally, print progress every 100 iterations\n",
    "        if i % 100 == 0:\n",
    "            print(f\"Iteration {i}: Cost = {cost:.4f}\")\n",
    "    \n",
    "    return weights, bias, cost_history\n",
    "\n",
    "# Set hyperparameters for training\n",
    "iterations = 1000\n",
    "learning_rate = 0.01\n",
    "\n",
    "# Train the model on the training set\n",
    "trained_weights, trained_bias, cost_history = gradient_descent(X_train, y_train, iterations, learning_rate, trained_weights, trained_bias)\n",
    "\n",
    "print(\"Trained weights:\", trained_weights)\n",
    "print(\"Trained bias:\", trained_bias)\n"
   ]
  },
  {
   "cell_type": "code",
   "execution_count": 19,
   "id": "8c1c35ce",
   "metadata": {},
   "outputs": [
    {
     "name": "stdout",
     "output_type": "stream",
     "text": [
      "Iteration 0: Cost = 1.0062\n",
      "Iteration 100: Cost = 1.0061\n",
      "Iteration 200: Cost = 1.0060\n",
      "Iteration 300: Cost = 1.0059\n",
      "Iteration 400: Cost = 1.0059\n",
      "Iteration 500: Cost = 1.0058\n",
      "Iteration 600: Cost = 1.0057\n",
      "Iteration 700: Cost = 1.0057\n",
      "Iteration 800: Cost = 1.0056\n",
      "Iteration 900: Cost = 1.0056\n",
      "Trained weights: [-0.028664045759384953, -0.0958690208970139, -0.05361848980819154, -0.004192944659515865, -0.00548441882070038, 0.09639789021961843]\n",
      "Trained bias: 0.032856907468616116\n"
     ]
    }
   ],
   "source": [
    "def gradient_descent(X, y, iterations, learning_rate, weights, bias):\n",
    "    \"\"\"\n",
    "    Run gradient descent to optimize weights and bias.\n",
    "    \n",
    "    Arguments:\n",
    "      X             : List of feature vectors (training data).\n",
    "      y             : List of target values (training data).\n",
    "      iterations    : Number of iterations to run.\n",
    "      learning_rate : Learning rate (alpha).\n",
    "      \n",
    "    Returns:\n",
    "      weights, bias, cost_history\n",
    "    \"\"\"\n",
    "    \n",
    "    for i in range(iterations):\n",
    "        grad_weights, grad_bias = compute_gradients(X, y, weights, bias)\n",
    "        \n",
    "        # Update weights and bias\n",
    "        weights = [w - learning_rate * gw for w, gw in zip(weights, grad_weights)]\n",
    "        bias = bias - learning_rate * grad_bias\n",
    "        \n",
    "        # Compute cost to monitor training progress\n",
    "        cost = compute_cost(X, y, weights, bias)\n",
    "        cost_history.append(cost)\n",
    "        \n",
    "        # Optionally, print progress every 100 iterations\n",
    "        if i % 100 == 0:\n",
    "            print(f\"Iteration {i}: Cost = {cost:.4f}\")\n",
    "    \n",
    "    return weights, bias, cost_history\n",
    "\n",
    "# Set hyperparameters for training\n",
    "iterations = 1000\n",
    "learning_rate = 0.001\n",
    "\n",
    "# Train the model on the training set\n",
    "trained_weights, trained_bias, cost_history = gradient_descent(X_train, y_train, iterations, learning_rate, trained_weights, trained_bias)\n",
    "\n",
    "print(\"Trained weights:\", trained_weights)\n",
    "print(\"Trained bias:\", trained_bias)\n"
   ]
  },
  {
   "cell_type": "code",
   "execution_count": 21,
   "id": "9269a844",
   "metadata": {},
   "outputs": [
    {
     "name": "stdout",
     "output_type": "stream",
     "text": [
      "[0.7751877124443864, 0.5509250920780422, 0, 0.8665048390455601, 1.191648559124121, 0.7690771301582948]\n",
      "0.671703904001719\n",
      "0.02178894838265509\n"
     ]
    }
   ],
   "source": [
    "print(X_train[0])\n",
    "print(y_train[0])\n",
    "print(predict(X_train[0], trained_weights, trained_bias))"
   ]
  }
 ],
 "metadata": {
  "kernelspec": {
   "display_name": "Python 3",
   "language": "python",
   "name": "python3"
  },
  "language_info": {
   "codemirror_mode": {
    "name": "ipython",
    "version": 3
   },
   "file_extension": ".py",
   "mimetype": "text/x-python",
   "name": "python",
   "nbconvert_exporter": "python",
   "pygments_lexer": "ipython3",
   "version": "3.11.0"
  }
 },
 "nbformat": 4,
 "nbformat_minor": 5
}
